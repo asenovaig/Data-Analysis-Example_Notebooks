{
 "cells": [
  {
   "cell_type": "code",
   "execution_count": 148,
   "metadata": {},
   "outputs": [],
   "source": [
    "##### Ще създадем модели, които се опитват да обяснят данните\n",
    "import statsmodels.api as sm # съдържа методи за линейна регресия, логистична регресия и др.\n",
    "import statsmodels.formula.api as smf\n",
    "import statsmodels.graphics.api as smg\n",
    "import patsy # не е нужно да внасяме (съдържа се в statsmodels), но за демонстрация; може да се ползва напр. със scikit-learn\n",
    "import matplotlib.pyplot as plt\n",
    "import numpy as np\n",
    "import pandas as pd\n",
    "from scipy import stats"
   ]
  },
  {
   "cell_type": "code",
   "execution_count": 149,
   "metadata": {},
   "outputs": [
    {
     "data": {
      "text/html": [
       "<div>\n",
       "<style scoped>\n",
       "    .dataframe tbody tr th:only-of-type {\n",
       "        vertical-align: middle;\n",
       "    }\n",
       "\n",
       "    .dataframe tbody tr th {\n",
       "        vertical-align: top;\n",
       "    }\n",
       "\n",
       "    .dataframe thead th {\n",
       "        text-align: right;\n",
       "    }\n",
       "</style>\n",
       "<table border=\"1\" class=\"dataframe\">\n",
       "  <thead>\n",
       "    <tr style=\"text-align: right;\">\n",
       "      <th></th>\n",
       "      <th>id</th>\n",
       "      <th>numer_periods</th>\n",
       "      <th>total_time</th>\n",
       "      <th>period</th>\n",
       "      <th>length</th>\n",
       "      <th>g</th>\n",
       "    </tr>\n",
       "  </thead>\n",
       "  <tbody>\n",
       "    <tr>\n",
       "      <th>0</th>\n",
       "      <td>0</td>\n",
       "      <td>10</td>\n",
       "      <td>21.853762</td>\n",
       "      <td>2.185376</td>\n",
       "      <td>1.236076</td>\n",
       "      <td>10.217681</td>\n",
       "    </tr>\n",
       "    <tr>\n",
       "      <th>1</th>\n",
       "      <td>1</td>\n",
       "      <td>5</td>\n",
       "      <td>9.150521</td>\n",
       "      <td>1.830104</td>\n",
       "      <td>0.865746</td>\n",
       "      <td>10.204661</td>\n",
       "    </tr>\n",
       "    <tr>\n",
       "      <th>2</th>\n",
       "      <td>2</td>\n",
       "      <td>7</td>\n",
       "      <td>6.934267</td>\n",
       "      <td>0.990610</td>\n",
       "      <td>0.248883</td>\n",
       "      <td>10.012675</td>\n",
       "    </tr>\n",
       "    <tr>\n",
       "      <th>3</th>\n",
       "      <td>3</td>\n",
       "      <td>2</td>\n",
       "      <td>4.561148</td>\n",
       "      <td>2.280574</td>\n",
       "      <td>1.397758</td>\n",
       "      <td>10.609702</td>\n",
       "    </tr>\n",
       "    <tr>\n",
       "      <th>4</th>\n",
       "      <td>4</td>\n",
       "      <td>5</td>\n",
       "      <td>9.408148</td>\n",
       "      <td>1.881630</td>\n",
       "      <td>0.946346</td>\n",
       "      <td>10.552162</td>\n",
       "    </tr>\n",
       "  </tbody>\n",
       "</table>\n",
       "</div>"
      ],
      "text/plain": [
       "   id  numer_periods  total_time    period    length          g\n",
       "0   0             10   21.853762  2.185376  1.236076  10.217681\n",
       "1   1              5    9.150521  1.830104  0.865746  10.204661\n",
       "2   2              7    6.934267  0.990610  0.248883  10.012675\n",
       "3   3              2    4.561148  2.280574  1.397758  10.609702\n",
       "4   4              5    9.408148  1.881630  0.946346  10.552162"
      ]
     },
     "execution_count": 149,
     "metadata": {},
     "output_type": "execute_result"
    }
   ],
   "source": [
    "# първо отваряме нашия файл за четене, като му даваме кратко име mycsv\n",
    "mycsv = pd.read_csv('pendulum_data.csv') # headers се слагат автоматично да е първият ред, ако csv файлът има header-и\n",
    "mycsv.head(5) # с горния код отваряме файла за четене"
   ]
  },
  {
   "cell_type": "code",
   "execution_count": 150,
   "metadata": {},
   "outputs": [
    {
     "data": {
      "text/html": [
       "<div>\n",
       "<style scoped>\n",
       "    .dataframe tbody tr th:only-of-type {\n",
       "        vertical-align: middle;\n",
       "    }\n",
       "\n",
       "    .dataframe tbody tr th {\n",
       "        vertical-align: top;\n",
       "    }\n",
       "\n",
       "    .dataframe thead th {\n",
       "        text-align: right;\n",
       "    }\n",
       "</style>\n",
       "<table border=\"1\" class=\"dataframe\">\n",
       "  <thead>\n",
       "    <tr style=\"text-align: right;\">\n",
       "      <th></th>\n",
       "      <th>id</th>\n",
       "      <th>numer_periods</th>\n",
       "      <th>total_time</th>\n",
       "      <th>period</th>\n",
       "      <th>length</th>\n",
       "      <th>g</th>\n",
       "    </tr>\n",
       "  </thead>\n",
       "  <tbody>\n",
       "    <tr>\n",
       "      <th>0</th>\n",
       "      <td>0</td>\n",
       "      <td>10</td>\n",
       "      <td>21.853762</td>\n",
       "      <td>2.185376</td>\n",
       "      <td>1.236076</td>\n",
       "      <td>10.217681</td>\n",
       "    </tr>\n",
       "    <tr>\n",
       "      <th>1</th>\n",
       "      <td>1</td>\n",
       "      <td>5</td>\n",
       "      <td>9.150521</td>\n",
       "      <td>1.830104</td>\n",
       "      <td>0.865746</td>\n",
       "      <td>10.204661</td>\n",
       "    </tr>\n",
       "    <tr>\n",
       "      <th>2</th>\n",
       "      <td>2</td>\n",
       "      <td>7</td>\n",
       "      <td>6.934267</td>\n",
       "      <td>0.990610</td>\n",
       "      <td>0.248883</td>\n",
       "      <td>10.012675</td>\n",
       "    </tr>\n",
       "    <tr>\n",
       "      <th>3</th>\n",
       "      <td>3</td>\n",
       "      <td>2</td>\n",
       "      <td>4.561148</td>\n",
       "      <td>2.280574</td>\n",
       "      <td>1.397758</td>\n",
       "      <td>10.609702</td>\n",
       "    </tr>\n",
       "    <tr>\n",
       "      <th>4</th>\n",
       "      <td>4</td>\n",
       "      <td>5</td>\n",
       "      <td>9.408148</td>\n",
       "      <td>1.881630</td>\n",
       "      <td>0.946346</td>\n",
       "      <td>10.552162</td>\n",
       "    </tr>\n",
       "  </tbody>\n",
       "</table>\n",
       "</div>"
      ],
      "text/plain": [
       "   id  numer_periods  total_time    period    length          g\n",
       "0   0             10   21.853762  2.185376  1.236076  10.217681\n",
       "1   1              5    9.150521  1.830104  0.865746  10.204661\n",
       "2   2              7    6.934267  0.990610  0.248883  10.012675\n",
       "3   3              2    4.561148  2.280574  1.397758  10.609702\n",
       "4   4              5    9.408148  1.881630  0.946346  10.552162"
      ]
     },
     "execution_count": 150,
     "metadata": {},
     "output_type": "execute_result"
    }
   ],
   "source": [
    "pend = pd.DataFrame(mycsv) # дефинираме Data Frame чрез pd.DataFrame(файл с данни)\n",
    "pend.head() \n",
    "\n",
    "#pend.period.head() # може да отделим конкретна колона\n",
    "#pend[['period','g']].head() # може да покажем конкретни колони\n",
    "#pend[pend.columns[1:4]].head() # може да покажем конкретни колони\n",
    "#pend['new_test']=pend.g+pend.id # създаваме нова колона в резултат на операции между две колони\n",
    "\n",
    "#del pend['new'] # изтриване на колона\n",
    "#del pend['new_test']"
   ]
  },
  {
   "cell_type": "code",
   "execution_count": 151,
   "metadata": {},
   "outputs": [
    {
     "data": {
      "text/html": [
       "<div>\n",
       "<style scoped>\n",
       "    .dataframe tbody tr th:only-of-type {\n",
       "        vertical-align: middle;\n",
       "    }\n",
       "\n",
       "    .dataframe tbody tr th {\n",
       "        vertical-align: top;\n",
       "    }\n",
       "\n",
       "    .dataframe thead th {\n",
       "        text-align: right;\n",
       "    }\n",
       "</style>\n",
       "<table border=\"1\" class=\"dataframe\">\n",
       "  <thead>\n",
       "    <tr style=\"text-align: right;\">\n",
       "      <th></th>\n",
       "      <th>period</th>\n",
       "      <th>length</th>\n",
       "      <th>g</th>\n",
       "      <th>sqlength</th>\n",
       "    </tr>\n",
       "  </thead>\n",
       "  <tbody>\n",
       "    <tr>\n",
       "      <th>0</th>\n",
       "      <td>2.185376</td>\n",
       "      <td>1.236076</td>\n",
       "      <td>10.217681</td>\n",
       "      <td>1.111789</td>\n",
       "    </tr>\n",
       "    <tr>\n",
       "      <th>1</th>\n",
       "      <td>1.830104</td>\n",
       "      <td>0.865746</td>\n",
       "      <td>10.204661</td>\n",
       "      <td>0.930455</td>\n",
       "    </tr>\n",
       "    <tr>\n",
       "      <th>2</th>\n",
       "      <td>0.990610</td>\n",
       "      <td>0.248883</td>\n",
       "      <td>10.012675</td>\n",
       "      <td>0.498882</td>\n",
       "    </tr>\n",
       "    <tr>\n",
       "      <th>3</th>\n",
       "      <td>2.280574</td>\n",
       "      <td>1.397758</td>\n",
       "      <td>10.609702</td>\n",
       "      <td>1.182268</td>\n",
       "    </tr>\n",
       "    <tr>\n",
       "      <th>4</th>\n",
       "      <td>1.881630</td>\n",
       "      <td>0.946346</td>\n",
       "      <td>10.552162</td>\n",
       "      <td>0.972803</td>\n",
       "    </tr>\n",
       "  </tbody>\n",
       "</table>\n",
       "</div>"
      ],
      "text/plain": [
       "     period    length          g  sqlength\n",
       "0  2.185376  1.236076  10.217681  1.111789\n",
       "1  1.830104  0.865746  10.204661  0.930455\n",
       "2  0.990610  0.248883  10.012675  0.498882\n",
       "3  2.280574  1.397758  10.609702  1.182268\n",
       "4  1.881630  0.946346  10.552162  0.972803"
      ]
     },
     "execution_count": 151,
     "metadata": {},
     "output_type": "execute_result"
    }
   ],
   "source": [
    "subpen = pd.DataFrame(mycsv, columns=['period','length','g']) # отделяме в DataFrame само колоните, които ни интересуват \n",
    "subpen.head()\n",
    "#####\n",
    "# за показване на определена колона:  subpen['g'] или subpen.g\n",
    "#\n",
    "# Създаваме нова колона length/g ИЛИ np.sqrt(subpen.length) ИЛИ друга според модела\n",
    "#subpen['leg']=subpen.length.div(subpen.g) # колоната с l/g носи името leg\n",
    "#subpen['leg']=subpen.length/subpen.g # същото като горе; става и с + - *\n",
    "#subpen['recsqrtg']=np.reciprocal(np.sqrt(subpen.g)) # колоната с 1/g носи името recsqrtg\n",
    "#subpen['persq']=np.square(subpen.period) # колоната с T^2 носи името persq\n",
    "\n",
    "#subpen['sqleg']= np.sqrt(subpen.leg) # колоната с sqrt(l/g) носи името sqleg\n",
    "subpen['sqlength']= np.sqrt(subpen.length) # колоната с sqrt(g) носи името sqlength\n",
    "\n",
    "subpen.sqlength.head()\n",
    "subpen.head()"
   ]
  },
  {
   "cell_type": "code",
   "execution_count": 152,
   "metadata": {},
   "outputs": [
    {
     "data": {
      "text/html": [
       "<div>\n",
       "<style scoped>\n",
       "    .dataframe tbody tr th:only-of-type {\n",
       "        vertical-align: middle;\n",
       "    }\n",
       "\n",
       "    .dataframe tbody tr th {\n",
       "        vertical-align: top;\n",
       "    }\n",
       "\n",
       "    .dataframe thead th {\n",
       "        text-align: right;\n",
       "    }\n",
       "</style>\n",
       "<table border=\"1\" class=\"dataframe\">\n",
       "  <thead>\n",
       "    <tr style=\"text-align: right;\">\n",
       "      <th></th>\n",
       "      <th>period</th>\n",
       "      <th>length</th>\n",
       "      <th>g</th>\n",
       "      <th>sqlength</th>\n",
       "    </tr>\n",
       "  </thead>\n",
       "  <tbody>\n",
       "    <tr>\n",
       "      <th>period</th>\n",
       "      <td>1.000000</td>\n",
       "      <td>0.991128</td>\n",
       "      <td>0.242717</td>\n",
       "      <td>0.998828</td>\n",
       "    </tr>\n",
       "    <tr>\n",
       "      <th>length</th>\n",
       "      <td>0.991128</td>\n",
       "      <td>1.000000</td>\n",
       "      <td>0.305703</td>\n",
       "      <td>0.993577</td>\n",
       "    </tr>\n",
       "    <tr>\n",
       "      <th>g</th>\n",
       "      <td>0.242717</td>\n",
       "      <td>0.305703</td>\n",
       "      <td>1.000000</td>\n",
       "      <td>0.287688</td>\n",
       "    </tr>\n",
       "    <tr>\n",
       "      <th>sqlength</th>\n",
       "      <td>0.998828</td>\n",
       "      <td>0.993577</td>\n",
       "      <td>0.287688</td>\n",
       "      <td>1.000000</td>\n",
       "    </tr>\n",
       "  </tbody>\n",
       "</table>\n",
       "</div>"
      ],
      "text/plain": [
       "            period    length         g  sqlength\n",
       "period    1.000000  0.991128  0.242717  0.998828\n",
       "length    0.991128  1.000000  0.305703  0.993577\n",
       "g         0.242717  0.305703  1.000000  0.287688\n",
       "sqlength  0.998828  0.993577  0.287688  1.000000"
      ]
     },
     "execution_count": 152,
     "metadata": {},
     "output_type": "execute_result"
    }
   ],
   "source": [
    "# ВАЖНО  Действия колона1.add(колона2); аналогично с функциите sub(), mul(), div()\n",
    "\n",
    "# събира стойности на една колона с тези на друга колона: g+T  \n",
    "subpen.g.add(subpen.period)\n",
    "\n",
    "# Функции, действащи върху всеки елемент от колоната np.sqrt(subpen.length)\n",
    "np.sqrt(subpen.length)\n",
    "\n",
    "(pend.g.mean(), pend.g.std()) # различни статистически функции\n",
    "subpen.g.describe() # елементарна таблица, обобщаваща колоната\n",
    "subpen.describe() # елементарна таблица, обобщаваща DaFr\n",
    "\n",
    "subpen.cov() # covariance и correlation за Data Frame\n",
    "subpen.corr() "
   ]
  },
  {
   "cell_type": "code",
   "execution_count": 153,
   "metadata": {},
   "outputs": [
    {
     "name": "stdout",
     "output_type": "stream",
     "text": [
      "                                 OLS Regression Results                                \n",
      "=======================================================================================\n",
      "Dep. Variable:                 period   R-squared (uncentered):                   1.000\n",
      "Model:                            OLS   Adj. R-squared (uncentered):              1.000\n",
      "Method:                 Least Squares   F-statistic:                          3.529e+05\n",
      "Date:                Tue, 22 Feb 2022   Prob (F-statistic):                    3.51e-96\n",
      "Time:                        17:41:28   Log-Likelihood:                          121.89\n",
      "No. Observations:                  50   AIC:                                     -241.8\n",
      "Df Residuals:                      49   BIC:                                     -239.9\n",
      "Df Model:                           1                                                  \n",
      "Covariance Type:            nonrobust                                                  \n",
      "==============================================================================\n",
      "                 coef    std err          t      P>|t|      [0.025      0.975]\n",
      "------------------------------------------------------------------------------\n",
      "sqlength       1.9493      0.003    594.058      0.000       1.943       1.956\n",
      "==============================================================================\n",
      "Omnibus:                       10.959   Durbin-Watson:                   1.751\n",
      "Prob(Omnibus):                  0.004   Jarque-Bera (JB):                3.423\n",
      "Skew:                           0.268   Prob(JB):                        0.181\n",
      "Kurtosis:                       1.835   Cond. No.                         1.00\n",
      "==============================================================================\n",
      "\n",
      "Notes:\n",
      "[1] R² is computed without centering (uncentered) since the model does not contain a constant.\n",
      "[2] Standard Errors assume that the covariance matrix of the errors is correctly specified.\n"
     ]
    },
    {
     "data": {
      "image/png": "[encoded data removed]",
      "text/plain": [
       "<Figure size 288x288 with 1 Axes>"
      ]
     },
     "execution_count": 153,
     "metadata": {},
     "output_type": "execute_result"
    },
    {
     "data": {
      "image/png": "[encoded data removed]",
      "text/plain": [
       "<Figure size 288x288 with 1 Axes>"
      ]
     },
     "metadata": {
      "needs_background": "light"
     },
     "output_type": "display_data"
    }
   ],
   "source": [
    "# Линейна регресия. Ще проверим модел от вида Т=const*sqrt(l), където очакваме const = 2*pi/(g^1/2)\n",
    "\n",
    "pendat = pd.DataFrame(subpen, columns=['period','sqlength']) #създаваме нова DaFr с колоните, които ни трябват\n",
    "pendat.head() # можем да използваме и subpen, естествено!\n",
    "\n",
    "## разглеждаме модел на 'period' с една независима променлива 'sqlength', като знаем каква зависимост да очакваме\n",
    "# в Patsy това е period ~ -1 + sqlength\n",
    "\n",
    "# fit the model to the data using ordinary linear square, for which we use the smf.ols class\n",
    "modelg = smf.ols(\"period ~ -1 + sqlength\", pendat) # Create an instance of model class; \"modelg\" е името на модела\n",
    "resultg = modelg.fit() # invoke the fit method, резултатът се казва \"resultg\"\n",
    "\n",
    "print(resultg.summary()) # можем да научим доста неща от таблицата, но и някои, които не ни трябват\n",
    "\n",
    "resultg.resid.head() # the residuals of the model fit to the data; проверяваме доколко те са нормално разпределени чрез тест:\n",
    "z, p = stats.normaltest(resultg.fittedvalues.values) # хипотезен тест за нормалност, output Z съответната p-value\n",
    "(z, p) # ако p е малкo, можем да отхвърлим нулевата хипотеза, че резидиумите са нормално разпределени\n",
    "\n",
    "fig, ax = plt.subplots(figsize=(4, 4)) # графична проверка можем да направим и с QQ плот; тук приготвяме размера и оста\n",
    "smg.qqplot(resultg.resid, ax=ax) # в нашия случай графиката не е линейна (не е учудващо)\n",
    "\n",
    "# resultg.params # доволни или не от модела, просто вземаме параметъра const = 2*pi/(g^1/2)\n",
    "\n",
    "# fig, ax1 = plt.subplots(figsize=(6, 4)) # ще подходим графично и показваме фитнатите vs истински стойности\n",
    "# smg.plot_fit(resultg, 0, ax=ax1) # използваме функцията plot_fit"
   ]
  },
  {
   "cell_type": "code",
   "execution_count": 154,
   "metadata": {},
   "outputs": [
    {
     "data": {
      "image/png": "[encoded data removed]",
      "text/plain": [
       "<Figure size 576x288 with 1 Axes>"
      ]
     },
     "execution_count": 154,
     "metadata": {},
     "output_type": "execute_result"
    },
    {
     "data": {
      "image/png": "[encoded data removed]",
      "text/plain": [
       "<Figure size 576x288 with 1 Axes>"
      ]
     },
     "metadata": {
      "needs_background": "light"
     },
     "output_type": "display_data"
    },
    {
     "data": {
      "image/png": "[encoded data removed]",
      "text/plain": [
       "<Figure size 576x288 with 1 Axes>"
      ]
     },
     "metadata": {
      "needs_background": "light"
     },
     "output_type": "display_data"
    }
   ],
   "source": [
    "fig, ax = plt.subplots(figsize=(8, 4)) # графична проверка можем да направим и с QQ плот; тук приготвяме размера и оста\n",
    "smg.qqplot(resultg.resid, ax=ax) # в нашия случай графиката не е линейна (не е учудващо)\n",
    "\n",
    "fig, ax1 = plt.subplots(figsize=(8, 4)) # ще подходим графично и показваме фитнатите vs истински стойности\n",
    "smg.plot_fit(resultg,0, ax=ax1) # използваме функцията plot_fit\n",
    "#smg.plot_fit(resultg, 1, ax=ax2) # това остава, ако имаме втора променлива"
   ]
  },
  {
   "cell_type": "code",
   "execution_count": 156,
   "metadata": {},
   "outputs": [
    {
     "name": "stdout",
     "output_type": "stream",
     "text": [
      "Help on tuple object:\n",
      "\n",
      "class tuple(object)\n",
      " |  tuple(iterable=(), /)\n",
      " |  \n",
      " |  Built-in immutable sequence.\n",
      " |  \n",
      " |  If no argument is given, the constructor returns an empty tuple.\n",
      " |  If iterable is specified the tuple is initialized from iterable's items.\n",
      " |  \n",
      " |  If the argument is a tuple, the return value is the same object.\n",
      " |  \n",
      " |  Built-in subclasses:\n",
      " |      asyncgen_hooks\n",
      " |      UnraisableHookArgs\n",
      " |  \n",
      " |  Methods defined here:\n",
      " |  \n",
      " |  __add__(self, value, /)\n",
      " |      Return self+value.\n",
      " |  \n",
      " |  __contains__(self, key, /)\n",
      " |      Return key in self.\n",
      " |  \n",
      " |  __eq__(self, value, /)\n",
      " |      Return self==value.\n",
      " |  \n",
      " |  __ge__(self, value, /)\n",
      " |      Return self>=value.\n",
      " |  \n",
      " |  __getattribute__(self, name, /)\n",
      " |      Return getattr(self, name).\n",
      " |  \n",
      " |  __getitem__(self, key, /)\n",
      " |      Return self[key].\n",
      " |  \n",
      " |  __getnewargs__(self, /)\n",
      " |  \n",
      " |  __gt__(self, value, /)\n",
      " |      Return self>value.\n",
      " |  \n",
      " |  __hash__(self, /)\n",
      " |      Return hash(self).\n",
      " |  \n",
      " |  __iter__(self, /)\n",
      " |      Implement iter(self).\n",
      " |  \n",
      " |  __le__(self, value, /)\n",
      " |      Return self<=value.\n",
      " |  \n",
      " |  __len__(self, /)\n",
      " |      Return len(self).\n",
      " |  \n",
      " |  __lt__(self, value, /)\n",
      " |      Return self<value.\n",
      " |  \n",
      " |  __mul__(self, value, /)\n",
      " |      Return self*value.\n",
      " |  \n",
      " |  __ne__(self, value, /)\n",
      " |      Return self!=value.\n",
      " |  \n",
      " |  __repr__(self, /)\n",
      " |      Return repr(self).\n",
      " |  \n",
      " |  __rmul__(self, value, /)\n",
      " |      Return value*self.\n",
      " |  \n",
      " |  count(self, value, /)\n",
      " |      Return number of occurrences of value.\n",
      " |  \n",
      " |  index(self, value, start=0, stop=9223372036854775807, /)\n",
      " |      Return first index of value.\n",
      " |      \n",
      " |      Raises ValueError if the value is not present.\n",
      " |  \n",
      " |  ----------------------------------------------------------------------\n",
      " |  Static methods defined here:\n",
      " |  \n",
      " |  __new__(*args, **kwargs) from builtins.type\n",
      " |      Create and return a new object.  See help(type) for accurate signature.\n",
      "\n"
     ]
    },
    {
     "data": {
      "image/png": "[encoded data removed]",
      "text/plain": [
       "<Figure size 576x288 with 1 Axes>"
      ]
     },
     "metadata": {
      "needs_background": "light"
     },
     "output_type": "display_data"
    }
   ],
   "source": [
    "help(plt.subplots(figsize=(8, 4)))"
   ]
  },
  {
   "cell_type": "code",
   "execution_count": null,
   "metadata": {},
   "outputs": [],
   "source": []
  },
  {
   "cell_type": "code",
   "execution_count": null,
   "metadata": {},
   "outputs": [],
   "source": []
  }
 ],
 "metadata": {
  "kernelspec": {
   "display_name": "Python 3",
   "language": "python",
   "name": "python3"
  },
  "language_info": {
   "codemirror_mode": {
    "name": "ipython",
    "version": 3
   },
   "file_extension": ".py",
   "mimetype": "text/x-python",
   "name": "python",
   "nbconvert_exporter": "python",
   "pygments_lexer": "ipython3",
   "version": "3.8.5"
  }
 },
 "nbformat": 4,
 "nbformat_minor": 4
}
