{
 "cells": [
  {
   "cell_type": "code",
   "execution_count": 35,
   "metadata": {},
   "outputs": [],
   "source": [
    "import numpy as np\n",
    "import pandas as pd"
   ]
  },
  {
   "cell_type": "code",
   "execution_count": 36,
   "metadata": {},
   "outputs": [
    {
     "data": {
      "text/html": [
       "<div>\n",
       "<style scoped>\n",
       "    .dataframe tbody tr th:only-of-type {\n",
       "        vertical-align: middle;\n",
       "    }\n",
       "\n",
       "    .dataframe tbody tr th {\n",
       "        vertical-align: top;\n",
       "    }\n",
       "\n",
       "    .dataframe thead th {\n",
       "        text-align: right;\n",
       "    }\n",
       "</style>\n",
       "<table border=\"1\" class=\"dataframe\">\n",
       "  <thead>\n",
       "    <tr style=\"text-align: right;\">\n",
       "      <th></th>\n",
       "      <th>id</th>\n",
       "      <th>color</th>\n",
       "      <th>brand_x</th>\n",
       "      <th>brand_y</th>\n",
       "    </tr>\n",
       "  </thead>\n",
       "  <tbody>\n",
       "    <tr>\n",
       "      <th>0</th>\n",
       "      <td>ball</td>\n",
       "      <td>white</td>\n",
       "      <td>OMG</td>\n",
       "      <td>ABC</td>\n",
       "    </tr>\n",
       "    <tr>\n",
       "      <th>1</th>\n",
       "      <td>pencil</td>\n",
       "      <td>red</td>\n",
       "      <td>ABC</td>\n",
       "      <td>OMG</td>\n",
       "    </tr>\n",
       "    <tr>\n",
       "      <th>2</th>\n",
       "      <td>pencil</td>\n",
       "      <td>red</td>\n",
       "      <td>ABC</td>\n",
       "      <td>POD</td>\n",
       "    </tr>\n",
       "    <tr>\n",
       "      <th>3</th>\n",
       "      <td>pen</td>\n",
       "      <td>red</td>\n",
       "      <td>ABC</td>\n",
       "      <td>POD</td>\n",
       "    </tr>\n",
       "  </tbody>\n",
       "</table>\n",
       "</div>"
      ],
      "text/plain": [
       "       id  color brand_x brand_y\n",
       "0    ball  white     OMG     ABC\n",
       "1  pencil    red     ABC     OMG\n",
       "2  pencil    red     ABC     POD\n",
       "3     pen    red     ABC     POD"
      ]
     },
     "execution_count": 36,
     "metadata": {},
     "output_type": "execute_result"
    }
   ],
   "source": [
    "################## Data preparation. Merging\n",
    "# снаждаме две таблици по един или няколко ключа\n",
    "\n",
    "frame1 = pd.DataFrame( {'id':['ball','pencil','pen','mug','ashtray'], 'price': [12.33,11.44,33.21,13.23,33.62]})\n",
    "frame2 = pd.DataFrame( {'id':['pencil','pencil','ball','pen'], 'color': ['white','red','red','black']})\n",
    "\n",
    "pd.merge(frame1,frame2) # съединяват се по единствената им обща колона 'id' и ако има повече от една обща колона, се посочва коя\n",
    "\n",
    "\n",
    "fram1 = pd.DataFrame( {'id':['ball','pencil','pen','mug','ashtray'], 'color': ['white','red','red','black','green'],\n",
    "                       'brand': ['OMG','ABC','ABC','POD','POD']}) # има две общи колони 'id' и 'brand'\n",
    "fram2 = pd.DataFrame( {'id':['pencil','pencil','ball','pen'], 'brand': ['OMG','POD','ABC','POD']})\n",
    "#pd.merge(fram1,fram2) # дава празна таблица, защото не е посочено къде става съединяването\n",
    "pd.merge(fram1,fram2,on='id') # ако колоните с ключ нямат еднакви имена, то използваме left_on='колона1', right_on='колона2'\n",
    "#pd.merge(fram1,fram2,on='brand') # by default се изпълнява inner join, т.е. ключовете са сечение на двете колони\n",
    "#pd.merge(fram1,fram2,on='id',how='outer') # how може да е също 'left' или'right'\n",
    "\n",
    "#fram2.columns = ['id2','brand2'] # долното работи, ако колоните имат различни имена\n",
    "#frame1.join(fram2) # слива по индекси на редовете като добавя NaN, ако има разлика в броя на редовете\n"
   ]
  },
  {
   "cell_type": "code",
   "execution_count": 43,
   "metadata": {},
   "outputs": [
    {
     "data": {
      "text/plain": [
       "1    0.520725\n",
       "2    0.792277\n",
       "3    0.596020\n",
       "4    0.210342\n",
       "5    0.628596\n",
       "6    0.343593\n",
       "dtype: float64"
      ]
     },
     "execution_count": 43,
     "metadata": {},
     "output_type": "execute_result"
    }
   ],
   "source": [
    "########## Data preparation. Concatenation. Други (виж в книгата)\n",
    "array1 = np.arange(9).reshape((3,3))\n",
    "array2 = np.arange(9).reshape((3,3))+6\n",
    "\n",
    "np.concatenate([array1,array2],axis=1) # хоризонтално, само за array\n",
    "np.concatenate([array1,array2],axis=0) # by default вертикално, само за array\n",
    "\n",
    "ser1 = pd.Series(np.random.rand(4), index=[1,2,3,4])\n",
    "ser2 = pd.Series(np.random.rand(4), index=[5,6,7,8])\n",
    "\n",
    "pd.concat([ser1,ser2]) # вертикално, връща array\n",
    "pd.concat([ser1,ser2], axis=1) # хоризонтално, връща DataFrame\n",
    "\n",
    "frame1 = pd.DataFrame(np.random.rand(9).reshape(3,3), index=[1,2,3], columns=['A','B','C'])\n",
    "frame2 = pd.DataFrame(np.random.rand(9).reshape(3,3), index=[4,5,6], columns=['A','B','C'])\n",
    "\n",
    "pd.concat([frame1, frame2]) # същото положение е в сила и за Data Frame\n",
    "pd.concat([frame1, frame2], axis=1)\n",
    "\n",
    "## Combining Когато искаме индексите на две бази данни да се overlap изцяло или частично\n",
    "seri1 = pd.Series(np.random.rand(5), index=[1,2,3,4,5])\n",
    "seri2 = pd.Series(np.random.rand(4),index=[2,4,5,6])\n",
    "seri1.combine_first(seri2) # комбинира данни1 и 2, като само индексите, които липсват в данни1, се попълват от данни2\n",
    "seri2.combine_first(seri1) # дава различен резултат с горното\n",
    "seri1[:3].combine_first(seri2[:3]) # ако искаме частичен overlap"
   ]
  },
  {
   "cell_type": "code",
   "execution_count": 56,
   "metadata": {},
   "outputs": [
    {
     "data": {
      "text/html": [
       "<div>\n",
       "<style scoped>\n",
       "    .dataframe tbody tr th:only-of-type {\n",
       "        vertical-align: middle;\n",
       "    }\n",
       "\n",
       "    .dataframe tbody tr th {\n",
       "        vertical-align: top;\n",
       "    }\n",
       "\n",
       "    .dataframe thead tr th {\n",
       "        text-align: left;\n",
       "    }\n",
       "\n",
       "    .dataframe thead tr:last-of-type th {\n",
       "        text-align: right;\n",
       "    }\n",
       "</style>\n",
       "<table border=\"1\" class=\"dataframe\">\n",
       "  <thead>\n",
       "    <tr>\n",
       "      <th></th>\n",
       "      <th colspan=\"3\" halign=\"left\">value</th>\n",
       "    </tr>\n",
       "    <tr>\n",
       "      <th>item</th>\n",
       "      <th>ball</th>\n",
       "      <th>mug</th>\n",
       "      <th>pen</th>\n",
       "    </tr>\n",
       "    <tr>\n",
       "      <th>color</th>\n",
       "      <th></th>\n",
       "      <th></th>\n",
       "      <th></th>\n",
       "    </tr>\n",
       "  </thead>\n",
       "  <tbody>\n",
       "    <tr>\n",
       "      <th>black</th>\n",
       "      <td>0.215704</td>\n",
       "      <td>0.115561</td>\n",
       "      <td>0.305747</td>\n",
       "    </tr>\n",
       "    <tr>\n",
       "      <th>red</th>\n",
       "      <td>0.583740</td>\n",
       "      <td>0.883368</td>\n",
       "      <td>0.455997</td>\n",
       "    </tr>\n",
       "    <tr>\n",
       "      <th>white</th>\n",
       "      <td>0.237819</td>\n",
       "      <td>0.706183</td>\n",
       "      <td>0.337483</td>\n",
       "    </tr>\n",
       "  </tbody>\n",
       "</table>\n",
       "</div>"
      ],
      "text/plain": [
       "          value                    \n",
       "item       ball       mug       pen\n",
       "color                              \n",
       "black  0.215704  0.115561  0.305747\n",
       "red    0.583740  0.883368  0.455997\n",
       "white  0.237819  0.706183  0.337483"
      ]
     },
     "execution_count": 56,
     "metadata": {},
     "output_type": "execute_result"
    }
   ],
   "source": [
    "####### Data preparation. Pivoting. Pivoting with Hierarchical indexing: Stacking (columns to rows) and Unstacking (vice versa)\n",
    "frame1 = pd.DataFrame(np.arange(9).reshape(3,3), index=['white','black','red'], columns=['ball','pen','pencil'])\n",
    "\n",
    "ser3=frame1.stack() # резултатът е Series с йерархични индекси: index - външни, columns - вътрешни\n",
    "ser3.unstack() # от Series с йерархични индекси получаваме Data Frame: с йерархични индекси: външни - редове, вътрешни - колони\n",
    "ser3.unstack(0) # by default е 1, което е идентично с горното\n",
    "\n",
    "# Pivoting from Long to Wide format. НЕ работи за всички таблици - виж примера!!!\n",
    "longframe = pd.DataFrame({ 'color':['white','white','white', 'red','red','red', 'black','black','black'],\n",
    "                          'item':['ball','pen','mug','ball','pen','mug','ball','pen','mug'], 'value': np.random.rand(9)})\n",
    "wideframe = longframe.pivot('color','item') # избрали сме две колони, които ще са keys; \n",
    "wideframe"
   ]
  },
  {
   "cell_type": "code",
   "execution_count": 72,
   "metadata": {},
   "outputs": [
    {
     "data": {
      "text/html": [
       "<div>\n",
       "<style scoped>\n",
       "    .dataframe tbody tr th:only-of-type {\n",
       "        vertical-align: middle;\n",
       "    }\n",
       "\n",
       "    .dataframe tbody tr th {\n",
       "        vertical-align: top;\n",
       "    }\n",
       "\n",
       "    .dataframe thead th {\n",
       "        text-align: right;\n",
       "    }\n",
       "</style>\n",
       "<table border=\"1\" class=\"dataframe\">\n",
       "  <thead>\n",
       "    <tr style=\"text-align: right;\">\n",
       "      <th></th>\n",
       "      <th>ball</th>\n",
       "      <th>pen</th>\n",
       "      <th>pencil</th>\n",
       "    </tr>\n",
       "  </thead>\n",
       "  <tbody>\n",
       "    <tr>\n",
       "      <th>white</th>\n",
       "      <td>0</td>\n",
       "      <td>1</td>\n",
       "      <td>2</td>\n",
       "    </tr>\n",
       "    <tr>\n",
       "      <th>black</th>\n",
       "      <td>3</td>\n",
       "      <td>4</td>\n",
       "      <td>5</td>\n",
       "    </tr>\n",
       "    <tr>\n",
       "      <th>red</th>\n",
       "      <td>6</td>\n",
       "      <td>7</td>\n",
       "      <td>8</td>\n",
       "    </tr>\n",
       "  </tbody>\n",
       "</table>\n",
       "</div>"
      ],
      "text/plain": [
       "       ball  pen  pencil\n",
       "white     0    1       2\n",
       "black     3    4       5\n",
       "red       6    7       8"
      ]
     },
     "execution_count": 72,
     "metadata": {},
     "output_type": "execute_result"
    }
   ],
   "source": [
    "####### Data preparation. Removing.\n",
    "frame1 = pd.DataFrame(np.arange(9).reshape(3,3), index=['white','black','red'], columns=['ball','pen','pencil'])\n",
    "\n",
    "#del frame1['ball'] # за изтриване на колона; модифицира таблицата\n",
    "#frame1\n",
    "\n",
    "frame1.drop('white') # посочва се индекса на реда, за изтриване на ред; НЕ модифицира таблицата\n",
    "frame1\n",
    "\n"
   ]
  },
  {
   "cell_type": "code",
   "execution_count": 70,
   "metadata": {},
   "outputs": [],
   "source": []
  },
  {
   "cell_type": "code",
   "execution_count": null,
   "metadata": {},
   "outputs": [],
   "source": []
  }
 ],
 "metadata": {
  "kernelspec": {
   "display_name": "Python 3",
   "language": "python",
   "name": "python3"
  },
  "language_info": {
   "codemirror_mode": {
    "name": "ipython",
    "version": 3
   },
   "file_extension": ".py",
   "mimetype": "text/x-python",
   "name": "python",
   "nbconvert_exporter": "python",
   "pygments_lexer": "ipython3",
   "version": "3.8.5"
  }
 },
 "nbformat": 4,
 "nbformat_minor": 4
}
