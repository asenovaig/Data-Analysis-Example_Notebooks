{
 "cells": [
  {
   "cell_type": "code",
   "execution_count": 1,
   "metadata": {},
   "outputs": [],
   "source": [
    "import numpy as np"
   ]
  },
  {
   "cell_type": "code",
   "execution_count": 2,
   "metadata": {},
   "outputs": [
    {
     "data": {
      "text/plain": [
       "(2.8360882180593743+3.8785817486054355j)"
      ]
     },
     "execution_count": 2,
     "metadata": {},
     "output_type": "execute_result"
    }
   ],
   "source": [
    "((4 + 5j) * (2 + 3j))**(1/2)"
   ]
  },
  {
   "cell_type": "code",
   "execution_count": 3,
   "metadata": {},
   "outputs": [],
   "source": [
    "dicto={'a':'name', 'b':'city', 'c':'occupation', 'd':'telephone', 'e':'status', 'f':'hobby', 'g':'salary'}"
   ]
  },
  {
   "cell_type": "code",
   "execution_count": 4,
   "metadata": {},
   "outputs": [
    {
     "data": {
      "text/plain": [
       "'occupation'"
      ]
     },
     "execution_count": 4,
     "metadata": {},
     "output_type": "execute_result"
    }
   ],
   "source": [
    "dicto['c']"
   ]
  },
  {
   "cell_type": "code",
   "execution_count": 5,
   "metadata": {},
   "outputs": [
    {
     "name": "stdout",
     "output_type": "stream",
     "text": [
      "a name b city c occupation d telephone e status f hobby g salary "
     ]
    }
   ],
   "source": [
    "for key, val in dicto.items(): # при зададени 2 елемента итерирацията е по ключ и съответната стойност\n",
    "    print(key, val, end=' ')"
   ]
  },
  {
   "cell_type": "code",
   "execution_count": 6,
   "metadata": {},
   "outputs": [
    {
     "name": "stdout",
     "output_type": "stream",
     "text": [
      "('a', 'name') ('b', 'city') ('c', 'occupation') ('d', 'telephone') ('e', 'status') ('f', 'hobby') ('g', 'salary') "
     ]
    }
   ],
   "source": [
    "for it in dicto.items(): # при зададен 1 елемент итерирацията е по елемент от речника\n",
    "    print(it, end=' ')"
   ]
  },
  {
   "cell_type": "code",
   "execution_count": 7,
   "metadata": {},
   "outputs": [
    {
     "name": "stdout",
     "output_type": "stream",
     "text": [
      "2 3 4 5 6 7 8 9 10 "
     ]
    }
   ],
   "source": [
    "listo=[1,2,3,4,5,6,7,8,9]\n",
    "for it in listo:\n",
    "    it=it+1\n",
    "    print(it, end=' ')"
   ]
  },
  {
   "cell_type": "code",
   "execution_count": 8,
   "metadata": {},
   "outputs": [
    {
     "data": {
      "text/plain": [
       "[1, 2, 3, 4, 5, 6, 7, 8, 9]"
      ]
     },
     "execution_count": 8,
     "metadata": {},
     "output_type": "execute_result"
    }
   ],
   "source": [
    "listo # не се е изменил"
   ]
  },
  {
   "cell_type": "code",
   "execution_count": 9,
   "metadata": {},
   "outputs": [],
   "source": [
    "a = np.array([1, 2, 3]) # даваме аргумента като списък, като всички елементи трябва да са от един и същи вид."
   ]
  },
  {
   "cell_type": "code",
   "execution_count": 10,
   "metadata": {},
   "outputs": [
    {
     "name": "stdout",
     "output_type": "stream",
     "text": [
      "[1 2 3]\n",
      "<class 'numpy.ndarray'>\n",
      "int32\n",
      "ndim = rank  1\n",
      "size = array length  3\n",
      "shape = the size of each dimension  (3,)\n"
     ]
    }
   ],
   "source": [
    "print(a)\n",
    "print(type(a)) # numpy array\n",
    "print(a.dtype) # тип на елементите в array\n",
    "print('ndim = rank ',a.ndim) # attribute for getting the axes, i.e. the rank; с колко индекса е обектът\n",
    "print('size = array length ', a.size) # attribute to know the array length\n",
    "print('shape = the size of each dimension ', a.shape) # a tuple of N-positive integers = the size for each dimension"
   ]
  },
  {
   "cell_type": "code",
   "execution_count": 11,
   "metadata": {},
   "outputs": [],
   "source": [
    "b = np.array([[1,2,3],[4,5,6]]) # аргументът е [списък от списък]=[ред1, ред2]"
   ]
  },
  {
   "cell_type": "code",
   "execution_count": 12,
   "metadata": {},
   "outputs": [
    {
     "name": "stdout",
     "output_type": "stream",
     "text": [
      "[[1 2 3]\n",
      " [4 5 6]]\n",
      ".ndim = rank = 2\n",
      ".size = array length = 6\n",
      ".shape = the size of each dimension = (2, 3)\n"
     ]
    }
   ],
   "source": [
    "print(b) # елементите автоматично се подреждат подравнено\n",
    "print('.ndim = rank =',b.ndim) # с колко индекса е обектът\n",
    "print('.size = array length =', b.size) # брой на всички елементи\n",
    "print('.shape = the size of each dimension =', b.shape) # (бр. редове, бр. стълбове)"
   ]
  },
  {
   "cell_type": "code",
   "execution_count": 13,
   "metadata": {},
   "outputs": [
    {
     "data": {
      "text/plain": [
       "array([[2, 3, 4],\n",
       "       [5, 6, 7],\n",
       "       [8, 9, 1]])"
      ]
     },
     "execution_count": 13,
     "metadata": {},
     "output_type": "execute_result"
    }
   ],
   "source": [
    "c = np.array(((2,3,4),[5,6,7], (8,9,1))) # np.array() приема също tuples или смесени lists и tuples\n",
    "c"
   ]
  },
  {
   "cell_type": "code",
   "execution_count": 14,
   "metadata": {},
   "outputs": [
    {
     "data": {
      "text/plain": [
       "array([[1.+0.j, 2.+0.j, 3.+0.j],\n",
       "       [4.+0.j, 5.+0.j, 6.+0.j]])"
      ]
     },
     "execution_count": 14,
     "metadata": {},
     "output_type": "execute_result"
    }
   ],
   "source": [
    "d = np.array([[1,2,3],[4,5,6]], dtype=complex) # така можем да избегнем default на данните\n",
    "d"
   ]
  },
  {
   "cell_type": "code",
   "execution_count": 15,
   "metadata": {},
   "outputs": [
    {
     "data": {
      "text/plain": [
       "array([[0., 0., 0.],\n",
       "       [0., 0., 0.],\n",
       "       [0., 0., 0.]])"
      ]
     },
     "execution_count": 15,
     "metadata": {},
     "output_type": "execute_result"
    }
   ],
   "source": [
    "np.zeros([3, 3]) # може и с ()"
   ]
  },
  {
   "cell_type": "code",
   "execution_count": 16,
   "metadata": {},
   "outputs": [
    {
     "data": {
      "text/plain": [
       "array([[1., 1., 1.],\n",
       "       [1., 1., 1.],\n",
       "       [1., 1., 1.]])"
      ]
     },
     "execution_count": 16,
     "metadata": {},
     "output_type": "execute_result"
    }
   ],
   "source": [
    "np.ones([3, 3]) # може и с ()"
   ]
  },
  {
   "cell_type": "code",
   "execution_count": 17,
   "metadata": {},
   "outputs": [
    {
     "data": {
      "text/plain": [
       "array([0, 1, 2, 3, 4, 5, 6, 7, 8, 9])"
      ]
     },
     "execution_count": 17,
     "metadata": {},
     "output_type": "execute_result"
    }
   ],
   "source": [
    "np.arange(10) # същото е np.arange(0, 10) е редица от 0 до 9 с default стъпка 1"
   ]
  },
  {
   "cell_type": "code",
   "execution_count": 18,
   "metadata": {},
   "outputs": [
    {
     "data": {
      "text/plain": [
       "array([4, 5, 6, 7, 8, 9])"
      ]
     },
     "execution_count": 18,
     "metadata": {},
     "output_type": "execute_result"
    }
   ],
   "source": [
    "np.arange(4, 10) # създаване на едномерен array посредством тази функция"
   ]
  },
  {
   "cell_type": "code",
   "execution_count": 19,
   "metadata": {},
   "outputs": [
    {
     "data": {
      "text/plain": [
       "array([0, 3, 6, 9])"
      ]
     },
     "execution_count": 19,
     "metadata": {},
     "output_type": "execute_result"
    }
   ],
   "source": [
    "np.arange(0, 12, 3) # създава array от малко към по-голямо с определена стъпка"
   ]
  },
  {
   "cell_type": "code",
   "execution_count": 20,
   "metadata": {},
   "outputs": [
    {
     "data": {
      "text/plain": [
       "array([[ 0,  1,  2,  3],\n",
       "       [ 4,  5,  6,  7],\n",
       "       [ 8,  9, 10, 11]])"
      ]
     },
     "execution_count": 20,
     "metadata": {},
     "output_type": "execute_result"
    }
   ],
   "source": [
    "np.arange(0, 12).reshape(3, 4) # 3 реда, 4 стълба; за създаване на двумерен array трябва да използваме reshape()"
   ]
  },
  {
   "cell_type": "code",
   "execution_count": 21,
   "metadata": {},
   "outputs": [
    {
     "data": {
      "text/plain": [
       "array([ 0.,  2.,  4.,  6.,  8., 10., 12., 14., 16., 18., 20.])"
      ]
     },
     "execution_count": 21,
     "metadata": {},
     "output_type": "execute_result"
    }
   ],
   "source": [
    "np.linspace(0,20,11) # array във вид на интервал с нач. точка, кр. точка, разделен на n-1 равни подинтервала"
   ]
  },
  {
   "cell_type": "code",
   "execution_count": 22,
   "metadata": {},
   "outputs": [
    {
     "data": {
      "text/plain": [
       "array([0.19068849, 0.45789048, 0.16951958])"
      ]
     },
     "execution_count": 22,
     "metadata": {},
     "output_type": "execute_result"
    }
   ],
   "source": [
    "np.random.random(3) # създаване на array с произволни числа"
   ]
  },
  {
   "cell_type": "code",
   "execution_count": 23,
   "metadata": {},
   "outputs": [
    {
     "data": {
      "text/plain": [
       "array([[0.53688764, 0.12365853, 0.63182084, 0.43594281],\n",
       "       [0.24846789, 0.31301281, 0.29755651, 0.40552487],\n",
       "       [0.50940905, 0.41805232, 0.39649373, 0.52061111]])"
      ]
     },
     "execution_count": 23,
     "metadata": {},
     "output_type": "execute_result"
    }
   ],
   "source": [
    "np.random.random((3,4)) # може също да бъде двумерен"
   ]
  },
  {
   "cell_type": "code",
   "execution_count": 24,
   "metadata": {},
   "outputs": [
    {
     "name": "stdout",
     "output_type": "stream",
     "text": [
      "[5 6 7]\n",
      "[ 4  8 12]\n",
      "[5 7 9]\n",
      "[ 4 10 18]\n"
     ]
    }
   ],
   "source": [
    "b=np.array([4,5,6])\n",
    "print(a+4) # инкрементен оператор a+=3, това променя array\n",
    "print(a*4) # инкрементен оператор a *= 2\n",
    "print(a+b) # element-wise, т.е. събират се по компоненти\n",
    "print(a*b) # element-wise, т.е. умножават се по компоненти; това НЕ Е МАТРИЧНО ПРОИЗВЕДЕНИЕ"
   ]
  },
  {
   "cell_type": "code",
   "execution_count": 25,
   "metadata": {},
   "outputs": [
    {
     "data": {
      "text/plain": [
       "array([[ 3.,  3.,  3.],\n",
       "       [12., 12., 12.],\n",
       "       [21., 21., 21.]])"
      ]
     },
     "execution_count": 25,
     "metadata": {},
     "output_type": "execute_result"
    }
   ],
   "source": [
    "A = np.arange(0, 9).reshape(3, 3)\n",
    "B = np.ones((3,3))\n",
    "np.dot(A,B) # умножаване на матрици ред по стълб А dot B; МАТРИЧНО ПРОИЗВЕДЕНИЕ"
   ]
  },
  {
   "cell_type": "code",
   "execution_count": 26,
   "metadata": {
    "scrolled": true
   },
   "outputs": [
    {
     "data": {
      "text/plain": [
       "array([[ 3.,  3.,  3.],\n",
       "       [12., 12., 12.],\n",
       "       [21., 21., 21.]])"
      ]
     },
     "execution_count": 26,
     "metadata": {},
     "output_type": "execute_result"
    }
   ],
   "source": [
    "A.dot(B) # алтернативен начин за записване"
   ]
  },
  {
   "cell_type": "code",
   "execution_count": 27,
   "metadata": {},
   "outputs": [
    {
     "data": {
      "text/plain": [
       "array([[0, 1, 2, 3, 4, 5, 6, 7, 8]])"
      ]
     },
     "execution_count": 27,
     "metadata": {},
     "output_type": "execute_result"
    }
   ],
   "source": [
    "A.reshape(1,9)"
   ]
  },
  {
   "cell_type": "code",
   "execution_count": 76,
   "metadata": {},
   "outputs": [
    {
     "data": {
      "text/plain": [
       "array([[0, 1, 2],\n",
       "       [3, 4, 5],\n",
       "       [6, 7, 8]])"
      ]
     },
     "execution_count": 76,
     "metadata": {},
     "output_type": "execute_result"
    }
   ],
   "source": [
    "A.reshape(3,3)"
   ]
  },
  {
   "cell_type": "code",
   "execution_count": 29,
   "metadata": {},
   "outputs": [
    {
     "name": "stdout",
     "output_type": "stream",
     "text": [
      "[1.         1.41421356 1.73205081 2.         2.23606798 2.44948974\n",
      " 2.64575131 2.82842712 3.        ]\n",
      "[0.         0.69314718 1.09861229 1.38629436 1.60943791 1.79175947\n",
      " 1.94591015 2.07944154 2.19722458]\n",
      "[ 0.84147098  0.90929743  0.14112001 -0.7568025  -0.95892427 -0.2794155\n",
      "  0.6569866   0.98935825  0.41211849]\n"
     ]
    }
   ],
   "source": [
    "a = np.arange(1, 10) # Универсални функции ufunc действат върху array елемент по елемент и показват резултата в друг array\n",
    "print(np.sqrt(a))\n",
    "print(np.log(a))\n",
    "print(np.sin(a))"
   ]
  },
  {
   "cell_type": "code",
   "execution_count": 30,
   "metadata": {},
   "outputs": [
    {
     "name": "stdout",
     "output_type": "stream",
     "text": [
      "45\n",
      "1\n",
      "2.581988897471611\n"
     ]
    }
   ],
   "source": [
    "### Aggregate Functions действат върху много елементи и показват един единствен резултат\n",
    "print(a.sum()) # сумата на всички елементи\n",
    "print(a.min())\n",
    "print(a.std())"
   ]
  },
  {
   "cell_type": "code",
   "execution_count": 31,
   "metadata": {},
   "outputs": [
    {
     "name": "stdout",
     "output_type": "stream",
     "text": [
      "[2 3 4 5 6 7 8 9]\n",
      "[2 4 6 8]\n",
      "[1 3 5 7 9]\n"
     ]
    }
   ],
   "source": [
    "####### Slicing за еднорангови редове\n",
    "print(a[1:9]) # елементите от [1] до [9]; само а[1] ще посочи втория елемент в array \n",
    "print(a[1:9:2]) # ще вземе елементите от [1] до [9], но през един! Стъпка 1 дава същия ред\n",
    "print(a[::2])\n",
    "# ако пропуснем първото число, то се подразбира да е 0; ако пропуснем второто число, то се подразбира да е макс индекс;\n",
    "# ако пропуснем третото число, то се подразбира да е 1"
   ]
  },
  {
   "cell_type": "code",
   "execution_count": 38,
   "metadata": {},
   "outputs": [
    {
     "data": {
      "text/plain": [
       "array([[0, 1, 2],\n",
       "       [3, 4, 5],\n",
       "       [6, 7, 8]])"
      ]
     },
     "execution_count": 38,
     "metadata": {},
     "output_type": "execute_result"
    }
   ],
   "source": [
    "### Slicing за редове два индекса\n",
    "A[0,:] # дава първия ред на матрицата; \n",
    "A[:,0] # дава първия стълб на матрицата\n",
    "A"
   ]
  },
  {
   "cell_type": "code",
   "execution_count": 45,
   "metadata": {},
   "outputs": [
    {
     "name": "stdout",
     "output_type": "stream",
     "text": [
      "[0 1 2 3]\n",
      "[4 5 6 7]\n",
      "[ 8  9 10 11]\n",
      "[12 13 14 15]\n",
      "0 1 2 3 4 5 6 7 8 9 10 11 12 13 14 15 "
     ]
    }
   ],
   "source": [
    "C=np.arange(0, 16).reshape((4, 4))\n",
    "C[0:2, 0:2] # дефинираме ако трябва да извадим подматрица\n",
    "C[[0,2], 1:3] # индексите може да се посочат и чрез списъци\n",
    "\n",
    "for row in C: # итерация; ако е посочен само една интерираща променлива, се итерира по редовете\n",
    "    print(row)\n",
    "\n",
    "for item in C.flat: # принтира всички елементи ред след ред\n",
    "    print(item, end = ' ')"
   ]
  },
  {
   "cell_type": "code",
   "execution_count": 56,
   "metadata": {},
   "outputs": [
    {
     "data": {
      "text/plain": [
       "array([ 1.5,  5.5,  9.5, 13.5])"
      ]
     },
     "execution_count": 56,
     "metadata": {},
     "output_type": "execute_result"
    }
   ],
   "source": [
    "# за прилагане на агрегирана функция върху всеки ред или всеки стълб поотделно използваме:\n",
    "np.apply_along_axis(np.mean, axis=0, arr=C) # (функция, ос 0=стълб 1=ред, конкретен array); тук показва средното на всеки стълб\n",
    "np.apply_along_axis(np.mean, axis=1, arr=C) # тук показва средното на всеки ред\n",
    "\n",
    "## Можем да използваме apply_along_axis() с наша си функция\n",
    "#def foo(x): return x/2\n",
    "\n",
    "#np.apply_along_axis(foo, axis=1, arr=C) # няма значение дали оста е 0 или 1"
   ]
  },
  {
   "cell_type": "code",
   "execution_count": 72,
   "metadata": {},
   "outputs": [
    {
     "data": {
      "text/plain": [
       "array([[ 0,  4,  8, 12],\n",
       "       [ 1,  5,  9, 13],\n",
       "       [ 2,  6, 10, 14],\n",
       "       [ 3,  7, 11, 15]])"
      ]
     },
     "execution_count": 72,
     "metadata": {},
     "output_type": "execute_result"
    }
   ],
   "source": [
    "C[C>9] # показва за кои елементи булевият израз е True\n",
    "C>9\n",
    "C.transpose() # не променя матрицата, а само показва транспонираната ѝ"
   ]
  },
  {
   "cell_type": "code",
   "execution_count": 74,
   "metadata": {},
   "outputs": [
    {
     "data": {
      "text/plain": [
       "array([[0.8782354 , 0.52853416, 0.02567341, 0.81611712, 0.47883302],\n",
       "       [0.99801745, 0.6942474 , 0.39142238, 0.70423157, 0.36236003],\n",
       "       [0.66557922, 0.61396909, 0.5536028 , 0.69632321, 0.91578747],\n",
       "       [0.92258798, 0.27054459, 0.12225774, 0.52660401, 0.32237085]])"
      ]
     },
     "execution_count": 74,
     "metadata": {},
     "output_type": "execute_result"
    }
   ],
   "source": [
    "Li = np.random.random(20)\n",
    "#L = Li.reshape(5, 4) # създава нов array\n",
    "Li.shape = (4, 5) # не създава нов обект, а променя стария\n",
    "#Li.ravel() # можем да превърнем многорангов array в еднорангов\n",
    "#Li.shape(20) # също \"разплита\" матрицата\n",
    "Li"
   ]
  },
  {
   "cell_type": "code",
   "execution_count": 93,
   "metadata": {},
   "outputs": [
    {
     "data": {
      "text/plain": [
       "array([[1., 1., 1., 1., 0., 0., 0., 0.],\n",
       "       [1., 1., 1., 1., 0., 0., 0., 0.],\n",
       "       [1., 1., 1., 1., 0., 0., 0., 0.],\n",
       "       [1., 1., 1., 1., 0., 0., 0., 0.]])"
      ]
     },
     "execution_count": 93,
     "metadata": {},
     "output_type": "execute_result"
    }
   ],
   "source": [
    "Aa = np.ones((4, 4))\n",
    "Bb = np.zeros((4, 4))\n",
    "np.vstack((Aa, Bb)) # вертикално \"съшиване\"\n",
    "np.hstack((Aa, Bb)) # хоризонтално \"съшиване\"\n",
    "\n",
    "aa = np.array([0, 1, 2])\n",
    "bb = np.array([3, 4, 5])\n",
    "cc = np.array([6, 7, 8])\n",
    "#np.column_stack((aa, bb, cc)) # използват се върху еднорангови array, за да създадат двурангови\n",
    "np.row_stack((aa, bb, cc)) # транспонираната на column.stack(); ако се използва върху двурангови, е аналог на vstack и hstack\n"
   ]
  },
  {
   "cell_type": "code",
   "execution_count": 102,
   "metadata": {},
   "outputs": [
    {
     "data": {
      "text/plain": [
       "(array([[ 0,  1],\n",
       "        [ 4,  5],\n",
       "        [ 8,  9],\n",
       "        [12, 13]]),\n",
       " array([[ 2,  3],\n",
       "        [ 6,  7],\n",
       "        [10, 11],\n",
       "        [14, 15]]))"
      ]
     },
     "execution_count": 102,
     "metadata": {},
     "output_type": "execute_result"
    }
   ],
   "source": [
    "[Dd,Kk] = np.hsplit(C,2) # разрязване splitting на реда симетрично по широчина horizontal. Може и на повече от 2 части\n",
    "#[Dd,Kk] = np.vsplit(C,4) # разрязване splitting на ред по височина vertical\n",
    "(Dd, Kk) # по-обща функция, която разрязва на несиметрични части, е np.split()"
   ]
  },
  {
   "cell_type": "code",
   "execution_count": 114,
   "metadata": {},
   "outputs": [],
   "source": [
    "## Някои общи положения\n",
    "a = np.array([1, 2, 3, 4, 5, 6, 7, 8, 9, 10])\n",
    "b = a.copy() # ако искаме да направим независимо копие на даден array; командата b = a не създава независимо копие\n",
    "#A*B # Vectorization A_ij * B_ij = C_ij без сумиране по индекси; a_i * b_i = c_i\n",
    "#aa+A # Broadcasting пример със събиране на еднорангов и двурангов масив"
   ]
  },
  {
   "cell_type": "code",
   "execution_count": 117,
   "metadata": {},
   "outputs": [
    {
     "data": {
      "text/plain": [
       "array([ 2,  4,  6,  8, 10, 12, 14, 16, 18, 20])"
      ]
     },
     "execution_count": 117,
     "metadata": {},
     "output_type": "execute_result"
    }
   ],
   "source": [
    "### Четене и записване във файл\n",
    "tes_dat=np.array([2,4,6,8,10,12,14,16,18,20])\n",
    "np.save(\"tes_dat\", tes_dat)\n",
    "np.load(\"tes_dat.npy\")"
   ]
  },
  {
   "cell_type": "code",
   "execution_count": null,
   "metadata": {},
   "outputs": [],
   "source": []
  }
 ],
 "metadata": {
  "kernelspec": {
   "display_name": "Python 3",
   "language": "python",
   "name": "python3"
  },
  "language_info": {
   "codemirror_mode": {
    "name": "ipython",
    "version": 3
   },
   "file_extension": ".py",
   "mimetype": "text/x-python",
   "name": "python",
   "nbconvert_exporter": "python",
   "pygments_lexer": "ipython3",
   "version": "3.8.5"
  }
 },
 "nbformat": 4,
 "nbformat_minor": 4
}
