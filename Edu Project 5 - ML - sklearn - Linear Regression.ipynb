{
 "cells": [
  {
   "cell_type": "code",
   "execution_count": 1,
   "metadata": {},
   "outputs": [],
   "source": [
    "from sklearn import datasets\n",
    "from sklearn import model_selection #осигурява functions for cross_validation\n",
    "from sklearn import linear_model\n",
    "from sklearn import metrics\n",
    "from sklearn import tree\n",
    "from sklearn import neighbors\n",
    "from sklearn import svm\n",
    "from sklearn import ensemble\n",
    "from sklearn import cluster"
   ]
  },
  {
   "cell_type": "code",
   "execution_count": 2,
   "metadata": {},
   "outputs": [],
   "source": [
    "import matplotlib.pyplot as plt\n",
    "import numpy as np\n",
    "import seaborn as sns"
   ]
  },
  {
   "cell_type": "code",
   "execution_count": 10,
   "metadata": {},
   "outputs": [],
   "source": [
    "### Regression\n",
    "\n",
    "### Ще използваме dataset с 50 samples and 50 features, като само 10 от тях са informative.\n",
    "X_all, y_all = datasets.make_regression(n_samples=50, n_features=50, n_informative=10) # make_regression генерира данни\n",
    "# с исканите характеристики\n",
    "# type(y_all) # both are arrays"
   ]
  },
  {
   "cell_type": "code",
   "execution_count": 11,
   "metadata": {},
   "outputs": [],
   "source": [
    "# разделяме database на 2 равни части\n",
    "X_train, X_test, y_train, y_test = model_selection.train_test_split(X_all, y_all, train_size=0.5)"
   ]
  },
  {
   "cell_type": "code",
   "execution_count": 12,
   "metadata": {},
   "outputs": [
    {
     "data": {
      "text/plain": [
       "LinearRegression()"
      ]
     },
     "execution_count": 12,
     "metadata": {},
     "output_type": "execute_result"
    }
   ],
   "source": [
    "# за обикновена лин. регресия има LinearRegression class от sklearn.linear_model\n",
    "# има и малки разлики във функциите на sklearn и statsmodels за което трябва да се внимава, когато се използват заедно\n",
    "model = linear_model.LinearRegression() # create instance; създаваме модел, чието име е model\n",
    "model.fit(X_train, y_train) # invoke fit; първи аргумент е feature matrix, втори е response variable"
   ]
  },
  {
   "cell_type": "code",
   "execution_count": 13,
   "metadata": {},
   "outputs": [
    {
     "data": {
      "text/plain": [
       "4.3673990285676756e-24"
      ]
     },
     "execution_count": 13,
     "metadata": {},
     "output_type": "execute_result"
    }
   ],
   "source": [
    "# пресмята sum of squared errors/residuals, но тъй като няма конкретна функция за това, ще дефинираме една\n",
    "def sse(resid):\n",
    "    return np.sum(resid**2)\n",
    "\n",
    "sse_train = sse(y_train - model.predict(X_train)) #calculate sum of squared errors of the training model\n",
    "sse_train # practically zero, което е съвсем нормално при 25 samples и 50 features"
   ]
  },
  {
   "cell_type": "code",
   "execution_count": 14,
   "metadata": {},
   "outputs": [
    {
     "data": {
      "text/plain": [
       "418097.628133271"
      ]
     },
     "execution_count": 14,
     "metadata": {},
     "output_type": "execute_result"
    }
   ],
   "source": [
    "# проверяваме за test data\n",
    "sse_test = sse(y_test - model.predict(X_test))\n",
    "sse_test # много по-голямо число, т.е. не е подходящ за predicting; overfitting"
   ]
  },
  {
   "cell_type": "code",
   "execution_count": 15,
   "metadata": {},
   "outputs": [
    {
     "data": {
      "text/plain": [
       "0.5983959726069321"
      ]
     },
     "execution_count": 15,
     "metadata": {},
     "output_type": "execute_result"
    }
   ],
   "source": [
    "# друг вариант за проверка е r-squared score\n",
    "model.score(X_train, y_train) # 1.0\n",
    "model.score(X_test, y_test) # 0.4648, indicates overfitting"
   ]
  },
  {
   "cell_type": "code",
   "execution_count": 16,
   "metadata": {},
   "outputs": [],
   "source": [
    "# може да покажем resuduals\n",
    "# дефинираме подходяща функция и след това я извикваме за resuduals на train и test data.\n",
    "def plot_residuals_and_coeff(resid_train, resid_test, coeff):\n",
    "    fig, axes = plt.subplots(1, 3, figsize=(12, 3))\n",
    "    axes[0].bar(np.arange(len(resid_train)), resid_train)\n",
    "    axes[0].set_xlabel(\"sample number\")\n",
    "    axes[0].set_ylabel(\"residual\")\n",
    "    axes[0].set_title(\"training data\")\n",
    "    axes[1].bar(np.arange(len(resid_test)), resid_test)\n",
    "    axes[1].set_xlabel(\"sample number\")\n",
    "    axes[1].set_ylabel(\"residual\")\n",
    "    axes[1].set_title(\"testing data\")\n",
    "    axes[2].bar(np.arange(len(coeff)), coeff)\n",
    "    axes[2].set_xlabel(\"coefficient number\")\n",
    "    axes[2].set_ylabel(\"coefficient\")\n",
    "    fig.tight_layout()\n",
    "    return fig, axes"
   ]
  },
  {
   "cell_type": "code",
   "execution_count": 17,
   "metadata": {},
   "outputs": [
    {
     "data": {
      "image/png": "[encoded data removed]",
      "text/plain": [
       "<Figure size 864x216 with 3 Axes>"
      ]
     },
     "metadata": {
      "needs_background": "light"
     },
     "output_type": "display_data"
    }
   ],
   "source": [
    "# box plot за residuals на train и test data, както и за стойностите на коефициентите \n",
    "resid_train = y_train - model.predict(X_train)\n",
    "resid_test =  y_test - model.predict(X_test)                                     \n",
    "\n",
    "fig, ax = plot_residuals_and_coeff(resid_train, resid_test, model.coef_) # .coef_ за модела; има .intercept_ за своб. чл."
   ]
  },
  {
   "cell_type": "code",
   "execution_count": 21,
   "metadata": {},
   "outputs": [
    {
     "data": {
      "text/plain": [
       "Ridge(alpha=2.5)"
      ]
     },
     "execution_count": 21,
     "metadata": {},
     "output_type": "execute_result"
    }
   ],
   "source": [
    "### Демонстрация на Ridge regression. Използваме клас Ridge от sklearn.linear_model, подобно на LinearRegression по-горе\n",
    "model = linear_model.Ridge(alpha=2.5) # избираме тази стойност на alpha; моделът отново се казва model!\n",
    "model.fit(X_train, y_train) # същото като обикновената линейна регресия"
   ]
  },
  {
   "cell_type": "code",
   "execution_count": 22,
   "metadata": {},
   "outputs": [
    {
     "name": "stdout",
     "output_type": "stream",
     "text": [
      "3218.86334017836 437964.69311345305\n"
     ]
    }
   ],
   "source": [
    "# пресмятаме SSE за test и train data; виждаме, че sse вече не е 0 за train data, но е почти същото за test.\n",
    "sse_train = sse(y_train - model.predict(X_train))\n",
    "sse_test = sse(y_test - model.predict(X_test))\n",
    "print(sse_train, sse_test)"
   ]
  },
  {
   "cell_type": "code",
   "execution_count": 23,
   "metadata": {},
   "outputs": [
    {
     "data": {
      "image/png": "[encoded data removed]",
      "text/plain": [
       "<Figure size 864x216 with 3 Axes>"
      ]
     },
     "metadata": {
      "needs_background": "light"
     },
     "output_type": "display_data"
    }
   ],
   "source": [
    "# box plot за residuals на train и test data, както и за стойностите на коефициентите, същото като това по-горе\n",
    "resid_train = y_train - model.predict(X_train)\n",
    "resid_test =  y_test - model.predict(X_test)                                     \n",
    "\n",
    "fig, ax = plot_residuals_and_coeff(resid_train, resid_test, model.coef_)"
   ]
  },
  {
   "cell_type": "code",
   "execution_count": 35,
   "metadata": {},
   "outputs": [
    {
     "data": {
      "text/plain": [
       "Lasso()"
      ]
     },
     "execution_count": 35,
     "metadata": {},
     "output_type": "execute_result"
    }
   ],
   "source": [
    "### Демонстрация на LASSO regression. Използваме клас Lasso от sklearn.linear_model\n",
    "# по аналогичен начин може да използваме ElasticNet, като променяме alpha и l1_ratio (от 0 за Ridge до 1 за LASSO)\n",
    "model = linear_model.Lasso(alpha=1.0) # избираме тази стойност на alpha; моделът има същото име\n",
    "model.fit(X_train, y_train)"
   ]
  },
  {
   "cell_type": "code",
   "execution_count": 25,
   "metadata": {},
   "outputs": [
    {
     "name": "stdout",
     "output_type": "stream",
     "text": [
      "1061.6129132517704 123007.15928521624\n"
     ]
    }
   ],
   "source": [
    "# пресмятаме SSE за test и train data; sse вече не е 0 за train data, а за test е чувствително намалено.\n",
    "sse_train = sse(y_train - model.predict(X_train))\n",
    "sse_test = sse(y_test - model.predict(X_test))\n",
    "print(sse_train, sse_test)"
   ]
  },
  {
   "cell_type": "code",
   "execution_count": 26,
   "metadata": {},
   "outputs": [
    {
     "data": {
      "image/png": "[encoded data removed]",
      "text/plain": [
       "<Figure size 864x216 with 3 Axes>"
      ]
     },
     "metadata": {
      "needs_background": "light"
     },
     "output_type": "display_data"
    }
   ],
   "source": [
    "# box plot за residuals на train и test data, както и за стойностите на коефициентите, същото като това по-горе\n",
    "# тук забелязваме, че доста от стойностите на коефициентите са 0\n",
    "resid_train = y_train - model.predict(X_train)\n",
    "resid_test =  y_test - model.predict(X_test)                                     \n",
    "\n",
    "fig, ax = plot_residuals_and_coeff(resid_train, resid_test, model.coef_)"
   ]
  },
  {
   "cell_type": "code",
   "execution_count": 27,
   "metadata": {},
   "outputs": [
    {
     "data": {
      "text/plain": [
       "LassoCV()"
      ]
     },
     "execution_count": 27,
     "metadata": {},
     "output_type": "execute_result"
    }
   ],
   "source": [
    "### LASSO с автоматично търсене на подходяща стойност на alpha при k-fold cross-validation; k=3 by default\n",
    "model = linear_model.LassoCV()\n",
    "model.fit(X_all, y_all)"
   ]
  },
  {
   "cell_type": "code",
   "execution_count": 28,
   "metadata": {},
   "outputs": [
    {
     "name": "stdout",
     "output_type": "stream",
     "text": [
      "6.226584723704194 8.959564003648666\n"
     ]
    }
   ],
   "source": [
    "# пресмятаме SSE за test и train data; sse е почти еднакво за двете\n",
    "sse_train = sse(y_train - model.predict(X_train))\n",
    "sse_test = sse(y_test - model.predict(X_test))\n",
    "print(sse_train, sse_test)"
   ]
  },
  {
   "cell_type": "code",
   "execution_count": 29,
   "metadata": {},
   "outputs": [
    {
     "data": {
      "image/png": "[encoded data removed]",
      "text/plain": [
       "<Figure size 864x216 with 3 Axes>"
      ]
     },
     "metadata": {
      "needs_background": "light"
     },
     "output_type": "display_data"
    }
   ],
   "source": [
    "# box plot за residuals на train и test data, както и за стойностите на коефициентите, същото като това по-горе\n",
    "# тук забелязваме, че са останали 10-тина коефициента, съществено различни от 0\n",
    "resid_train = y_train - model.predict(X_train)\n",
    "resid_test =  y_test - model.predict(X_test)                                     \n",
    "\n",
    "fig, ax = plot_residuals_and_coeff(resid_train, resid_test, model.coef_)"
   ]
  },
  {
   "cell_type": "code",
   "execution_count": 34,
   "metadata": {},
   "outputs": [
    {
     "data": {
      "text/plain": [
       "0.15769917429853006"
      ]
     },
     "execution_count": 34,
     "metadata": {},
     "output_type": "execute_result"
    }
   ],
   "source": [
    "model.coef_\n",
    "model.alpha_"
   ]
  },
  {
   "cell_type": "code",
   "execution_count": null,
   "metadata": {},
   "outputs": [],
   "source": []
  }
 ],
 "metadata": {
  "kernelspec": {
   "display_name": "Python 3",
   "language": "python",
   "name": "python3"
  },
  "language_info": {
   "codemirror_mode": {
    "name": "ipython",
    "version": 3
   },
   "file_extension": ".py",
   "mimetype": "text/x-python",
   "name": "python",
   "nbconvert_exporter": "python",
   "pygments_lexer": "ipython3",
   "version": "3.8.5"
  }
 },
 "nbformat": 4,
 "nbformat_minor": 4
}
