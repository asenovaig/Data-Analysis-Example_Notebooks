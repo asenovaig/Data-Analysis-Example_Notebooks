{
 "cells": [
  {
   "cell_type": "code",
   "execution_count": 37,
   "metadata": {},
   "outputs": [],
   "source": [
    "import statsmodels.api as sm # съдържа методи за линейна регресия, логистична регресия и др.\n",
    "import statsmodels.formula.api as smf\n",
    "import statsmodels.graphics.api as smg\n",
    "import patsy # не е нужно да внасяме (съдържа се в statsmodels), но за демонстрация; може да се ползва напр. със scikit-learn\n",
    "import matplotlib.pyplot as plt\n",
    "import numpy as np\n",
    "import pandas as pd\n",
    "from scipy import stats"
   ]
  },
  {
   "cell_type": "code",
   "execution_count": 26,
   "metadata": {},
   "outputs": [
    {
     "name": "stdout",
     "output_type": "stream",
     "text": [
      "<class 'pandas.core.frame.DataFrame'>\n",
      "RangeIndex: 150 entries, 0 to 149\n",
      "Data columns (total 5 columns):\n",
      " #   Column        Non-Null Count  Dtype  \n",
      "---  ------        --------------  -----  \n",
      " 0   Sepal.Length  150 non-null    float64\n",
      " 1   Sepal.Width   150 non-null    float64\n",
      " 2   Petal.Length  150 non-null    float64\n",
      " 3   Petal.Width   150 non-null    float64\n",
      " 4   Species       150 non-null    object \n",
      "dtypes: float64(4), object(1)\n",
      "memory usage: 6.0+ KB\n",
      "Optimization terminated successfully.\n",
      "         Current function value: 0.102818\n",
      "         Iterations 10\n",
      "                           Logit Regression Results                           \n",
      "==============================================================================\n",
      "Dep. Variable:                Species   No. Observations:                  100\n",
      "Model:                          Logit   Df Residuals:                       97\n",
      "Method:                           MLE   Df Model:                            2\n",
      "Date:                Mon, 20 Dec 2021   Pseudo R-squ.:                  0.8517\n",
      "Time:                        00:00:34   Log-Likelihood:                -10.282\n",
      "converged:                       True   LL-Null:                       -69.315\n",
      "Covariance Type:            nonrobust   LLR p-value:                 2.303e-26\n",
      "================================================================================\n",
      "                   coef    std err          z      P>|z|      [0.025      0.975]\n",
      "--------------------------------------------------------------------------------\n",
      "Intercept       45.2723     13.612      3.326      0.001      18.594      71.951\n",
      "Petal_Length    -5.7545      2.306     -2.496      0.013     -10.274      -1.235\n",
      "Petal_Width    -10.4467      3.756     -2.782      0.005     -17.808      -3.086\n",
      "================================================================================\n",
      "\n",
      "Possibly complete quasi-separation: A fraction 0.34 of observations can be\n",
      "perfectly predicted. This might indicate that there is complete\n",
      "quasi-separation. In this case some parameters will not be identified.\n",
      "        Logit Marginal Effects       \n",
      "=====================================\n",
      "Dep. Variable:                Species\n",
      "Method:                          dydx\n",
      "At:                           overall\n",
      "================================================================================\n",
      "                  dy/dx    std err          z      P>|z|      [0.025      0.975]\n",
      "--------------------------------------------------------------------------------\n",
      "Petal_Length    -0.1736      0.052     -3.347      0.001      -0.275      -0.072\n",
      "Petal_Width     -0.3151      0.068     -4.608      0.000      -0.449      -0.181\n",
      "================================================================================\n",
      "Intercept       45.272344\n",
      "Petal_Length    -5.754532\n",
      "Petal_Width    -10.446700\n",
      "dtype: float64\n"
     ]
    },
    {
     "data": {
      "text/plain": [
       "<matplotlib.legend.Legend at 0x22873830b50>"
      ]
     },
     "execution_count": 26,
     "metadata": {},
     "output_type": "execute_result"
    },
    {
     "data": {
      "image/png": "[encoded data removed]",
      "text/plain": [
       "<Figure size 576x288 with 1 Axes>"
      ]
     },
     "metadata": {
      "needs_background": "light"
     },
     "output_type": "display_data"
    }
   ],
   "source": [
    "### разглеждаме Regression with discrete dependent variables (for example, binary outcomes). Може да използваме логистичното\n",
    "# уравнение, cdf на нормалното разпределение или друго; map x от (-inf, +inf) към p от [0, 1]. Повече информация на f.351\n",
    "### Тук ще използваме \n",
    "\n",
    "# първо ще свалим dataset чрез функцията sm.datasets.get_rdataset\n",
    "\n",
    "df = sm.datasets.get_rdataset(\"iris\").data # dataset с размери на листа на цветове ириси от различни видове\n",
    "df.info() # показва какви променливи има в dataset\n",
    "\n",
    "df.Species.unique() # за да видим колко unique types of species са в колоната Species - има 3 вида ириси\n",
    "\n",
    "# разглеждаме регресия с два изхода и избираме virginica и versicolor\n",
    "df_subset = df[(df.Species == \"versicolor\") | (df.Species == \"virginica\")].copy() # за удобство създаваме subset от избраните\n",
    "\n",
    "df_subset.Species = df_subset.Species.map({\"versicolor\": 1, \"virginica\": 0}) # map-ваме 1 и 0, за да имаме бинарна променлива\n",
    "df_subset.rename(columns={\"Sepal.Length\": \"Sepal_Length\", \"Sepal.Width\": \"Sepal_Width\", \"Petal.Length\": \"Petal_Length\",\n",
    "                          \"Petal.Width\": \"Petal_Width\"}, inplace=True) # преименуваме колоните с '_' вместо с '.', иначе грешки\n",
    "\n",
    "df_subset.head(5)\n",
    "\n",
    "### Правим логистичен модел, в който petal_length и petal_width са независими променливи. Използваме класа smf.logit и Patsy\n",
    "model = smf.logit(\"Species ~ Petal_Length + Petal_Width\", data=df_subset) # името на модела е model (лошо решение, но туй то...)\n",
    "\n",
    "## Прилагаме модела (който досега е само израз) към нашите данни. Праговата стойност е 0,5\n",
    "result = model.fit()\n",
    "\n",
    "print(result.summary()) # обобщение на изчислените параметри на модела\n",
    "\n",
    "print(result.get_margeff().summary()) # the marginal effect на всяка от explanatory variables в модела\n",
    "\n",
    "### Когато сме доволни от модела, можем да предскажем стойността на response var при други стойности на explanatory var\n",
    "# Първо ще си направи нови данни (от други стойности на explanatory var), уж сме ги получили от някъде\n",
    "df_new = pd.DataFrame({\"Petal_Length\": np.random.randn(20)*0.5 + 5, \"Petal_Width\": np.random.randn(20)*0.5 + 1.7})\n",
    "\n",
    "df_new[\"P-Species\"] = result.predict(df_new) # тук използваме метода predict върху новите данни за размера на листенцата\n",
    "df_new[\"P-Species\"].head(3) # ред с вероятности for each observation to correspond to the response y =1\n",
    "\n",
    "# сравнявайки тези вероятности с праговата стойност 0.5, можем да предскажем binary value of the response variable\n",
    "df_new[\"Species\"] = (df_new[\"P-Species\"] > 0.5).astype(int) # нова колона в df_new\n",
    "df_new[\"Species\"].head(10)\n",
    "\n",
    "# intercept и наклонът на правата, разделяща точките с y = 0 and y =1  (в равнината Petal_Width и Petal_Length), могат да бъдат\n",
    "# намерени от параметрите на фитнатия model\n",
    "params = result.params # пак лош избор на име...\n",
    "alpha0 = -params['Intercept']/params['Petal_Width']\n",
    "alpha1 = -params['Petal_Length']/params['Petal_Width']\n",
    "print(params)\n",
    "\n",
    "\n",
    "### Представяме графично (scatter plot) fitted (squares) и predicted (circles) данни\n",
    "fig, ax = plt.subplots(1, 1, figsize=(8, 4))\n",
    "\n",
    "# species virginica\n",
    "ax.plot(df_subset[df_subset.Species == 0].Petal_Length.values, \n",
    "        df_subset[df_subset.Species == 0].Petal_Width.values, 's', label='virginica')\n",
    "ax.plot(df_new[df_new.Species == 0].Petal_Length.values, df_new[df_new.Species == 0].Petal_Width.values,\n",
    "        'o', markersize=10, color=\"steelblue\", label='virginica (pred.)')\n",
    "\n",
    " # species versicolor\n",
    "ax.plot(df_subset[df_subset.Species == 1].Petal_Length.values, \n",
    "        df_subset[df_subset.Species == 1].Petal_Width.values, 's', label='versicolor')\n",
    "ax.plot(df_new[df_new.Species == 1].Petal_Length.values, df_new[df_new.Species == 1].Petal_Width.values, \n",
    "        'o', markersize=10, color=\"green\", label='versicolor (pred.)')\n",
    "\n",
    "# boundary line\n",
    "_x = np.array([4.0, 6.1])\n",
    "ax.plot(_x, alpha0 + alpha1 * _x, 'k')\n",
    "ax.set_xlabel('Petal length')\n",
    "ax.set_ylabel('Petal width')\n",
    "ax.legend()"
   ]
  },
  {
   "cell_type": "code",
   "execution_count": 52,
   "metadata": {},
   "outputs": [
    {
     "name": "stdout",
     "output_type": "stream",
     "text": [
      "Optimization terminated successfully.\n",
      "         Current function value: 2.168457\n",
      "         Iterations 1\n",
      "                          Poisson Regression Results                          \n",
      "==============================================================================\n",
      "Dep. Variable:                  value   No. Observations:                  100\n",
      "Model:                        Poisson   Df Residuals:                       99\n",
      "Method:                           MLE   Df Model:                            0\n",
      "Date:                Mon, 20 Dec 2021   Pseudo R-squ.:                   0.000\n",
      "Time:                        23:39:00   Log-Likelihood:                -216.85\n",
      "converged:                       True   LL-Null:                       -216.85\n",
      "Covariance Type:            nonrobust   LLR p-value:                       nan\n",
      "==============================================================================\n",
      "                 coef    std err          z      P>|z|      [0.025      0.975]\n",
      "------------------------------------------------------------------------------\n",
      "Intercept      1.1314      0.057     19.920      0.000       1.020       1.243\n",
      "==============================================================================\n"
     ]
    },
    {
     "name": "stderr",
     "output_type": "stream",
     "text": [
      "<ipython-input-52-24020eb6ef34>:42: VisibleDeprecationWarning: Passing `normed=True` on non-uniform bins has always been broken, and computes neither the probability density function nor the probability mass function. The result is only correct if the bins are uniform, when density=True will produce the same result anyway. The argument will be removed in a future version of numpy.\n",
      "  v, k = np.histogram(df.values, bins=12, range=(0, 12), normed=True)\n"
     ]
    },
    {
     "data": {
      "text/plain": [
       "<matplotlib.legend.Legend at 0x22874e9f7c0>"
      ]
     },
     "execution_count": 52,
     "metadata": {},
     "output_type": "execute_result"
    },
    {
     "data": {
      "image/png": "[encoded data removed]",
      "text/plain": [
       "<Figure size 1152x288 with 1 Axes>"
      ]
     },
     "metadata": {
      "needs_background": "light"
     },
     "output_type": "display_data"
    },
    {
     "data": {
      "image/png": "[encoded data removed]",
      "text/plain": [
       "<Figure size 864x288 with 1 Axes>"
      ]
     },
     "metadata": {
      "needs_background": "light"
     },
     "output_type": "display_data"
    }
   ],
   "source": [
    "### Poisson model: когато response variable е success count за много опити, всеки от които е с много малка вероятност за успех.\n",
    "# if a collection of random points in some space forms a Poisson process (напр. произволно избрани точки върху равнина \n",
    "# или върху права), then the number of points in a region of finite size is a random variable with a Poisson distribution.\n",
    "\n",
    "# За да покажем как се фитват данни към поасонов модел, ще разгледаме още едно примерно dataset - Discoveries, което съдържа\n",
    "# counts на значими научни открития в периода 1860 - 1959 г. Поради естеството на данните те са разпределени поасоново.\n",
    "\n",
    "dataset = sm.datasets.get_rdataset(\"discoveries\")\n",
    "# dataset.data.head(6) # виждаме, че има някакъв естествен индекс числа, но искаме да го сменим с година\n",
    "df = dataset.data.set_index(\"time\") # новият стар dataset с друг индекс\n",
    "df.head(10).T # за да е по-удобно за представяне, иначе ще стане 10 реда с по 2 данни на ред\n",
    "\n",
    "# Можем да направим bar graph на броя открития за всяка година\n",
    "fig, ax = plt.subplots(1, 1, figsize=(16, 4))\n",
    "df.plot(kind='bar', ax=ax) #\n",
    "\n",
    "# Изглежда, че броят важни открития за година е горе-долу константа, въпреки че се забелязва лек спад в късните кодини. Все пак\n",
    "# хипотезата, че разпределението е поасоново не е за пренебрегване. За да изследваме това, можем да фитнем данните към Poisson\n",
    "# процес, използвайки smf.poisson класа Patsy \"discoveries ~ 1\", което означава, че моделираме the discoveries variable \n",
    "# единствено чрез an intercept coefficient (the Poisson distribution parameter).\n",
    "\n",
    "model = smf.poisson(\"value ~ 1\", data=df) # отново наричаме модела си model и value е броят на откритията\n",
    "result = model.fit() # след като го създадем, извикваме метода fit, за да фитнем данните\n",
    "print(result.summary()) # показва обобщение и някои statistics\n",
    "\n",
    "result.conf_int() # доверителен интервал за параметрите на модела - тук параметърът е само един\n",
    "\n",
    "result.params # това е стойността на intercept, който е свързан с ламбда параметъра от поасоновото разпределение посредством\n",
    "lmbda = np.exp(result.params) # това е ламбда от поасоновото разпределение\n",
    "\n",
    "# Сега можем да сравним хистограмата на наблюдаваните counts с теоретични counts, получени от поасоново разпределена\n",
    "# случайна величина от SciPy stats library.\n",
    "X = stats.poisson(lmbda)\n",
    "\n",
    "# За да оценим фитването на данните към Poisson distribution, създаваме rand променливи за долната и горната граница на \n",
    "#доверителния интервал за intercept (вж. по-горе)\n",
    "X_ci_l = stats.poisson(np.exp(result.conf_int().values)[0, 0]) # lower\n",
    "X_ci_u = stats.poisson(np.exp(result.conf_int().values)[0, 1]) # upper\n",
    "\n",
    "# Правим хистограма на наблюдаваните counts с теоретична probability mass functions за поасоновите разпределения, \n",
    "# съответстващи на the fitted model parameter and its confidence intervals.\n",
    "v, k = np.histogram(df.values, bins=12, range=(0, 12), normed=True)\n",
    "fig, ax = plt.subplots(1, 1, figsize=(12, 4))\n",
    "\n",
    "ax.bar(k[:-1], v, color=\"steelblue\", align='center', label='Dicoveries per year')\n",
    "ax.bar(k-0.125, X_ci_l.pmf(k), color=\"red\", alpha=0.5, align='center', width=0.25, label='Poisson fit (CI, lower)')\n",
    "ax.bar(k, X.pmf(k), color=\"green\", align='center', width=0.5, label='Poisson fit')\n",
    "ax.bar(k+0.125, X_ci_u.pmf(k), color=\"magenta\", alpha=0.5, align='center', width=0.25, label='Poisson fit (CI, upper)')\n",
    "ax.legend()\n",
    "\n",
    "#The resultindicates that the dataset of great discoveries are not well described by\n",
    "# a Poisson process, since the agreement between Poisson probability mass function and the observed counts\n",
    "# deviates significantly. The hypothesis that the great discoveries per year are a Poisson process must therefore\n",
    "# be rejected. A failure to fit a model to a given dataset is of course a natural part of statistical modeling process,\n",
    "# and although the dataset turned out not to be Poisson distributed (perhaps because years with a large\n",
    "# and small number of great discovers tend to be clustered together), we still have gained insight by the\n",
    "# failed attempt to model it as such. Because of the correlations between the number of discoveries at any\n",
    "# given year and its recent past, a time-series analysis could be a better approach."
   ]
  },
  {
   "cell_type": "code",
   "execution_count": null,
   "metadata": {},
   "outputs": [],
   "source": []
  },
  {
   "cell_type": "code",
   "execution_count": null,
   "metadata": {},
   "outputs": [],
   "source": []
  }
 ],
 "metadata": {
  "kernelspec": {
   "display_name": "Python 3",
   "language": "python",
   "name": "python3"
  },
  "language_info": {
   "codemirror_mode": {
    "name": "ipython",
    "version": 3
   },
   "file_extension": ".py",
   "mimetype": "text/x-python",
   "name": "python",
   "nbconvert_exporter": "python",
   "pygments_lexer": "ipython3",
   "version": "3.8.5"
  }
 },
 "nbformat": 4,
 "nbformat_minor": 4
}
